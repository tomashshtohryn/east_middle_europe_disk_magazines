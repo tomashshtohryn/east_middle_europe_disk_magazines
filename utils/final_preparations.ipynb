{
 "cells": [
  {
   "cell_type": "code",
   "id": "initial_id",
   "metadata": {
    "collapsed": true,
    "ExecuteTime": {
     "end_time": "2024-07-15T13:51:35.343498Z",
     "start_time": "2024-07-15T13:51:34.868634Z"
    }
   },
   "source": "import pandas as pd",
   "outputs": [],
   "execution_count": 1
  },
  {
   "metadata": {},
   "cell_type": "markdown",
   "source": "# Load data",
   "id": "488a43b2f67b1c3e"
  },
  {
   "metadata": {
    "ExecuteTime": {
     "end_time": "2024-07-15T13:51:36.225306Z",
     "start_time": "2024-07-15T13:51:36.126404Z"
    }
   },
   "cell_type": "code",
   "source": [
    "df_magazines = pd.read_csv('../data/target_data/east_middle_europe_magazines.csv', encoding='utf-16')\n",
    "df_issues = pd.read_csv('../data/target_data/east_middle_europe_magazines_issues.csv', encoding='utf-16')"
   ],
   "id": "def735810b9dce10",
   "outputs": [],
   "execution_count": 2
  },
  {
   "metadata": {},
   "cell_type": "markdown",
   "source": "# Sort columns alphabetically",
   "id": "769fa413a4e39d73"
  },
  {
   "metadata": {
    "ExecuteTime": {
     "end_time": "2024-07-15T13:51:37.107711Z",
     "start_time": "2024-07-15T13:51:37.095482Z"
    }
   },
   "cell_type": "code",
   "source": "df_magazines = df_magazines.sort_values(by=['magazine_title'], key=lambda x: x.str.lower())",
   "id": "e9bf4e2261ee7b3",
   "outputs": [],
   "execution_count": 3
  },
  {
   "metadata": {
    "ExecuteTime": {
     "end_time": "2024-07-15T13:51:37.608192Z",
     "start_time": "2024-07-15T13:51:37.589249Z"
    }
   },
   "cell_type": "code",
   "source": "df_issues = df_issues.sort_values(by=['issue_title'], key=lambda x: x.str.lower())",
   "id": "176f87886577c02e",
   "outputs": [],
   "execution_count": 4
  },
  {
   "metadata": {
    "ExecuteTime": {
     "end_time": "2024-07-15T13:51:38.077064Z",
     "start_time": "2024-07-15T13:51:38.056022Z"
    }
   },
   "cell_type": "code",
   "source": [
    "df_magazines.to_csv('../data/target_data/east_middle_europe_magazines.csv', index=False, encoding='utf-16')\n",
    "df_issues.to_csv('../data/target_data/east_middle_europe_magazines_issues.csv', index=False, encoding='utf-16')"
   ],
   "id": "6137583cac636065",
   "outputs": [],
   "execution_count": 5
  },
  {
   "metadata": {},
   "cell_type": "markdown",
   "source": "# Merge cells in order to upload data onto the MediaWiki Catalogue of Diskmags",
   "id": "98500c513032293e"
  },
  {
   "metadata": {
    "ExecuteTime": {
     "end_time": "2024-07-15T13:51:39.078347Z",
     "start_time": "2024-07-15T13:51:39.066301Z"
    }
   },
   "cell_type": "code",
   "source": "df_issues_sorted = df_issues.sort_values(by=['source'], key=lambda x: x.str.lower())",
   "id": "ef414856c47429bf",
   "outputs": [],
   "execution_count": 6
  },
  {
   "metadata": {
    "ExecuteTime": {
     "end_time": "2024-07-15T13:51:39.516246Z",
     "start_time": "2024-07-15T13:51:39.499399Z"
    }
   },
   "cell_type": "code",
   "source": [
    "def join_non_missing(values):\n",
    "    target = []\n",
    "    for value in values:\n",
    "        if pd.notna(value):\n",
    "            value = value.split('; ')\n",
    "            for v in value:\n",
    "                if v not in target:\n",
    "                    target.append(v)\n",
    "    return '; '.join(target)"
   ],
   "id": "8bd98d2f16071a1",
   "outputs": [],
   "execution_count": 7
  },
  {
   "metadata": {
    "ExecuteTime": {
     "end_time": "2024-07-15T13:51:40.112500Z",
     "start_time": "2024-07-15T13:51:40.003406Z"
    }
   },
   "cell_type": "code",
   "source": "df_issues_merged = df_issues_sorted.groupby(['issue_title', 'magazine_title']).agg(join_non_missing).reset_index()",
   "id": "30d9b80596dff7c2",
   "outputs": [],
   "execution_count": 8
  },
  {
   "metadata": {
    "ExecuteTime": {
     "end_time": "2024-07-15T13:51:40.580548Z",
     "start_time": "2024-07-15T13:51:40.560576Z"
    }
   },
   "cell_type": "code",
   "source": "df_issues_merged",
   "id": "a3c746c59b1a5c5a",
   "outputs": [
    {
     "data": {
      "text/plain": [
       "          issue_title magazine_title                   orig_issue_title  \\\n",
       "0      Alamakota No.0      Alamakota  Alamakota 0; Alamakota - issue #0   \n",
       "1      Alamakota No.1      Alamakota  Alamakota 1; alamakota - issue #1   \n",
       "2      Alamakota No.2      Alamakota  Alamakota 2; alamakota - issue #2   \n",
       "3      Alamakota No.3      Alamakota  Alamakota 3; Alamakota - issue #3   \n",
       "4    Ale Jaja (issue)       Ale Jaja                           Ale Jaja   \n",
       "..                ...            ...                                ...   \n",
       "586      Zig Zag No.8        Zig Zag             Zig Zag 8; Zig Zag #08   \n",
       "587        Zosia No.1          Zosia                  Zosia 1; zosia #1   \n",
       "588        Zosia No.2          Zosia                  Zosia 2; zosia #2   \n",
       "589        Zosia No.3          Zosia                  Zosia 3; zosia #3   \n",
       "590        Zosia No.4          Zosia                  Zosia 4; zosia #4   \n",
       "\n",
       "     origin language         release_date system_name_standardized  \\\n",
       "0    Poland   Polish  1991-05-10; 1991-05                    Amiga   \n",
       "1    Poland   Polish     1991-09; 1991-08                    Amiga   \n",
       "2    Poland   Polish     1991-11; 1991-10                    Amiga   \n",
       "3    Poland   Polish                 1992                    Amiga   \n",
       "4    Poland   Polish                 1994                    Amiga   \n",
       "..      ...      ...                  ...                      ...   \n",
       "586  Poland   Polish  1994-04-26; 1994-04                    Amiga   \n",
       "587  Poland  English              1999-12                    Amiga   \n",
       "588  Poland  English  2000-04-25; 2000-04                    Amiga   \n",
       "589  Poland  English                 2000                    Amiga   \n",
       "590  Poland  English  2001-09-15; 2001-09                    Amiga   \n",
       "\n",
       "                  system_name                  editor          source  \\\n",
       "0               Amiga OCS/ECS     Luzers; Luzers Team  Demozoo; Pouet   \n",
       "1               Amiga OCS/ECS     Luzers; Luzers Team  Demozoo; Pouet   \n",
       "2               Amiga OCS/ECS     Luzers; Luzers Team  Demozoo; Pouet   \n",
       "3               Amiga OCS/ECS     Luzers; Luzers Team  Demozoo; Pouet   \n",
       "4               Amiga OCS/ECS                  Maksiu         Demozoo   \n",
       "..                        ...                     ...             ...   \n",
       "586             Amiga OCS/ECS                   Union  Demozoo; Pouet   \n",
       "587                 Amiga AGA  Madwizards; MadWizards  Demozoo; Pouet   \n",
       "588  Amiga OCS/ECS; Amiga AGA  Madwizards; MadWizards  Demozoo; Pouet   \n",
       "589                 Amiga AGA  Madwizards; MadWizards  Demozoo; Pouet   \n",
       "590                 Amiga AGA  Madwizards; MadWizards  Demozoo; Pouet   \n",
       "\n",
       "                                                  link disclaimer  \n",
       "0    https://demozoo.org//productions/249444/; http...             \n",
       "1    https://demozoo.org//productions/249445/; http...             \n",
       "2    https://demozoo.org//productions/249446/; http...             \n",
       "3    https://demozoo.org//productions/249447/; http...             \n",
       "4             https://demozoo.org//productions/220181/             \n",
       "..                                                 ...        ...  \n",
       "586  https://demozoo.org//productions/139133/; http...             \n",
       "587  https://demozoo.org//productions/9059/; https:...             \n",
       "588  https://demozoo.org//productions/248743/; http...             \n",
       "589  https://demozoo.org//productions/9060/; https:...             \n",
       "590  https://demozoo.org//productions/9341/; https:...             \n",
       "\n",
       "[591 rows x 12 columns]"
      ],
      "text/html": [
       "<div>\n",
       "<style scoped>\n",
       "    .dataframe tbody tr th:only-of-type {\n",
       "        vertical-align: middle;\n",
       "    }\n",
       "\n",
       "    .dataframe tbody tr th {\n",
       "        vertical-align: top;\n",
       "    }\n",
       "\n",
       "    .dataframe thead th {\n",
       "        text-align: right;\n",
       "    }\n",
       "</style>\n",
       "<table border=\"1\" class=\"dataframe\">\n",
       "  <thead>\n",
       "    <tr style=\"text-align: right;\">\n",
       "      <th></th>\n",
       "      <th>issue_title</th>\n",
       "      <th>magazine_title</th>\n",
       "      <th>orig_issue_title</th>\n",
       "      <th>origin</th>\n",
       "      <th>language</th>\n",
       "      <th>release_date</th>\n",
       "      <th>system_name_standardized</th>\n",
       "      <th>system_name</th>\n",
       "      <th>editor</th>\n",
       "      <th>source</th>\n",
       "      <th>link</th>\n",
       "      <th>disclaimer</th>\n",
       "    </tr>\n",
       "  </thead>\n",
       "  <tbody>\n",
       "    <tr>\n",
       "      <th>0</th>\n",
       "      <td>Alamakota No.0</td>\n",
       "      <td>Alamakota</td>\n",
       "      <td>Alamakota 0; Alamakota - issue #0</td>\n",
       "      <td>Poland</td>\n",
       "      <td>Polish</td>\n",
       "      <td>1991-05-10; 1991-05</td>\n",
       "      <td>Amiga</td>\n",
       "      <td>Amiga OCS/ECS</td>\n",
       "      <td>Luzers; Luzers Team</td>\n",
       "      <td>Demozoo; Pouet</td>\n",
       "      <td>https://demozoo.org//productions/249444/; http...</td>\n",
       "      <td></td>\n",
       "    </tr>\n",
       "    <tr>\n",
       "      <th>1</th>\n",
       "      <td>Alamakota No.1</td>\n",
       "      <td>Alamakota</td>\n",
       "      <td>Alamakota 1; alamakota - issue #1</td>\n",
       "      <td>Poland</td>\n",
       "      <td>Polish</td>\n",
       "      <td>1991-09; 1991-08</td>\n",
       "      <td>Amiga</td>\n",
       "      <td>Amiga OCS/ECS</td>\n",
       "      <td>Luzers; Luzers Team</td>\n",
       "      <td>Demozoo; Pouet</td>\n",
       "      <td>https://demozoo.org//productions/249445/; http...</td>\n",
       "      <td></td>\n",
       "    </tr>\n",
       "    <tr>\n",
       "      <th>2</th>\n",
       "      <td>Alamakota No.2</td>\n",
       "      <td>Alamakota</td>\n",
       "      <td>Alamakota 2; alamakota - issue #2</td>\n",
       "      <td>Poland</td>\n",
       "      <td>Polish</td>\n",
       "      <td>1991-11; 1991-10</td>\n",
       "      <td>Amiga</td>\n",
       "      <td>Amiga OCS/ECS</td>\n",
       "      <td>Luzers; Luzers Team</td>\n",
       "      <td>Demozoo; Pouet</td>\n",
       "      <td>https://demozoo.org//productions/249446/; http...</td>\n",
       "      <td></td>\n",
       "    </tr>\n",
       "    <tr>\n",
       "      <th>3</th>\n",
       "      <td>Alamakota No.3</td>\n",
       "      <td>Alamakota</td>\n",
       "      <td>Alamakota 3; Alamakota - issue #3</td>\n",
       "      <td>Poland</td>\n",
       "      <td>Polish</td>\n",
       "      <td>1992</td>\n",
       "      <td>Amiga</td>\n",
       "      <td>Amiga OCS/ECS</td>\n",
       "      <td>Luzers; Luzers Team</td>\n",
       "      <td>Demozoo; Pouet</td>\n",
       "      <td>https://demozoo.org//productions/249447/; http...</td>\n",
       "      <td></td>\n",
       "    </tr>\n",
       "    <tr>\n",
       "      <th>4</th>\n",
       "      <td>Ale Jaja (issue)</td>\n",
       "      <td>Ale Jaja</td>\n",
       "      <td>Ale Jaja</td>\n",
       "      <td>Poland</td>\n",
       "      <td>Polish</td>\n",
       "      <td>1994</td>\n",
       "      <td>Amiga</td>\n",
       "      <td>Amiga OCS/ECS</td>\n",
       "      <td>Maksiu</td>\n",
       "      <td>Demozoo</td>\n",
       "      <td>https://demozoo.org//productions/220181/</td>\n",
       "      <td></td>\n",
       "    </tr>\n",
       "    <tr>\n",
       "      <th>...</th>\n",
       "      <td>...</td>\n",
       "      <td>...</td>\n",
       "      <td>...</td>\n",
       "      <td>...</td>\n",
       "      <td>...</td>\n",
       "      <td>...</td>\n",
       "      <td>...</td>\n",
       "      <td>...</td>\n",
       "      <td>...</td>\n",
       "      <td>...</td>\n",
       "      <td>...</td>\n",
       "      <td>...</td>\n",
       "    </tr>\n",
       "    <tr>\n",
       "      <th>586</th>\n",
       "      <td>Zig Zag No.8</td>\n",
       "      <td>Zig Zag</td>\n",
       "      <td>Zig Zag 8; Zig Zag #08</td>\n",
       "      <td>Poland</td>\n",
       "      <td>Polish</td>\n",
       "      <td>1994-04-26; 1994-04</td>\n",
       "      <td>Amiga</td>\n",
       "      <td>Amiga OCS/ECS</td>\n",
       "      <td>Union</td>\n",
       "      <td>Demozoo; Pouet</td>\n",
       "      <td>https://demozoo.org//productions/139133/; http...</td>\n",
       "      <td></td>\n",
       "    </tr>\n",
       "    <tr>\n",
       "      <th>587</th>\n",
       "      <td>Zosia No.1</td>\n",
       "      <td>Zosia</td>\n",
       "      <td>Zosia 1; zosia #1</td>\n",
       "      <td>Poland</td>\n",
       "      <td>English</td>\n",
       "      <td>1999-12</td>\n",
       "      <td>Amiga</td>\n",
       "      <td>Amiga AGA</td>\n",
       "      <td>Madwizards; MadWizards</td>\n",
       "      <td>Demozoo; Pouet</td>\n",
       "      <td>https://demozoo.org//productions/9059/; https:...</td>\n",
       "      <td></td>\n",
       "    </tr>\n",
       "    <tr>\n",
       "      <th>588</th>\n",
       "      <td>Zosia No.2</td>\n",
       "      <td>Zosia</td>\n",
       "      <td>Zosia 2; zosia #2</td>\n",
       "      <td>Poland</td>\n",
       "      <td>English</td>\n",
       "      <td>2000-04-25; 2000-04</td>\n",
       "      <td>Amiga</td>\n",
       "      <td>Amiga OCS/ECS; Amiga AGA</td>\n",
       "      <td>Madwizards; MadWizards</td>\n",
       "      <td>Demozoo; Pouet</td>\n",
       "      <td>https://demozoo.org//productions/248743/; http...</td>\n",
       "      <td></td>\n",
       "    </tr>\n",
       "    <tr>\n",
       "      <th>589</th>\n",
       "      <td>Zosia No.3</td>\n",
       "      <td>Zosia</td>\n",
       "      <td>Zosia 3; zosia #3</td>\n",
       "      <td>Poland</td>\n",
       "      <td>English</td>\n",
       "      <td>2000</td>\n",
       "      <td>Amiga</td>\n",
       "      <td>Amiga AGA</td>\n",
       "      <td>Madwizards; MadWizards</td>\n",
       "      <td>Demozoo; Pouet</td>\n",
       "      <td>https://demozoo.org//productions/9060/; https:...</td>\n",
       "      <td></td>\n",
       "    </tr>\n",
       "    <tr>\n",
       "      <th>590</th>\n",
       "      <td>Zosia No.4</td>\n",
       "      <td>Zosia</td>\n",
       "      <td>Zosia 4; zosia #4</td>\n",
       "      <td>Poland</td>\n",
       "      <td>English</td>\n",
       "      <td>2001-09-15; 2001-09</td>\n",
       "      <td>Amiga</td>\n",
       "      <td>Amiga AGA</td>\n",
       "      <td>Madwizards; MadWizards</td>\n",
       "      <td>Demozoo; Pouet</td>\n",
       "      <td>https://demozoo.org//productions/9341/; https:...</td>\n",
       "      <td></td>\n",
       "    </tr>\n",
       "  </tbody>\n",
       "</table>\n",
       "<p>591 rows × 12 columns</p>\n",
       "</div>"
      ]
     },
     "execution_count": 9,
     "metadata": {},
     "output_type": "execute_result"
    }
   ],
   "execution_count": 9
  },
  {
   "metadata": {
    "ExecuteTime": {
     "end_time": "2024-07-15T13:51:41.127890Z",
     "start_time": "2024-07-15T13:51:41.123130Z"
    }
   },
   "cell_type": "code",
   "source": [
    "df_issues_merged = df_issues_merged.rename(columns={'issue_title': 'Title', \n",
    "                                                    'magazine_title': 'Issue[Magazine]',\n",
    "                                                    'orig_issue_title': 'Issue[Spellings]',\n",
    "                                                    'origin': 'Issue[Origin]',\n",
    "                                                    'language': 'Issue[Language]',\n",
    "                                                    'release_date': 'Issue[Release Date]',\n",
    "                                                    'system_name_standardized': 'Issue[OriginalSystemName]',\n",
    "                                                    'system_name': 'Issue[Systems]',\n",
    "                                                    'editor': 'Issue[Groups]',\n",
    "                                                    'source': 'Issue[Source]',\n",
    "                                                    'link': 'Issue[Links]',\n",
    "                                                    'disclaimer': 'Issue[Disclaimer]'})"
   ],
   "id": "4ca6bf9a0f7322a8",
   "outputs": [],
   "execution_count": 10
  },
  {
   "metadata": {
    "ExecuteTime": {
     "end_time": "2024-07-15T13:51:41.756083Z",
     "start_time": "2024-07-15T13:51:41.739446Z"
    }
   },
   "cell_type": "code",
   "source": "df_issues_merged.to_csv('../data/target_data/mw_import_east_middle_europe_magazines_issues.csv', encoding='utf-16', index=False)",
   "id": "fdd811875043820a",
   "outputs": [],
   "execution_count": 11
  },
  {
   "metadata": {},
   "cell_type": "markdown",
   "source": "# Prepare the datasets in order to publish them in other resources",
   "id": "bbf988ed075eb373"
  },
  {
   "metadata": {},
   "cell_type": "markdown",
   "source": "## Replace country names and languages with their codes regarding the ZDB-Format",
   "id": "66ebd7bbb1f3af8"
  },
  {
   "metadata": {
    "ExecuteTime": {
     "end_time": "2024-07-15T13:51:43.292823Z",
     "start_time": "2024-07-15T13:51:43.276932Z"
    }
   },
   "cell_type": "code",
   "source": [
    "country_codes = {'Poland': 'PL',\n",
    "                 'Slovenia': 'SI',\n",
    "                 'Czech Republic': 'CZ',\n",
    "                 'Hungary': 'HU',\n",
    "                 'Sweden': 'SE'}\n",
    "language_codes = {'Polish': 'pol',\n",
    "                  'Hungarian': 'hun',\n",
    "                  'Slovenian': 'slv',\n",
    "                  'Czech': 'cze',\n",
    "                  'English': 'eng'}"
   ],
   "id": "8b319cd5b25134fc",
   "outputs": [],
   "execution_count": 12
  },
  {
   "metadata": {
    "ExecuteTime": {
     "end_time": "2024-07-15T13:51:43.826439Z",
     "start_time": "2024-07-15T13:51:43.808706Z"
    }
   },
   "cell_type": "code",
   "source": [
    "for country, code in country_codes.items():\n",
    "    df_magazines['origin'] = df_magazines['origin'].str.replace(country, code)\n",
    "    df_issues['origin'] = df_issues['origin'].str.replace(country, code)\n",
    "for language, code in language_codes.items():\n",
    "    df_magazines['language'] = df_magazines['language'].str.replace(language, code)\n",
    "    df_issues['language'] = df_issues['language'].str.replace(language, code)"
   ],
   "id": "857123222be3da8e",
   "outputs": [],
   "execution_count": 13
  },
  {
   "metadata": {},
   "cell_type": "markdown",
   "source": "## Replace missing values with dots",
   "id": "6843895ba590331f"
  },
  {
   "metadata": {
    "ExecuteTime": {
     "end_time": "2024-07-15T13:51:44.962341Z",
     "start_time": "2024-07-15T13:51:44.948182Z"
    }
   },
   "cell_type": "code",
   "source": [
    "df_issues = df_issues.replace('', '.').fillna('.')\n",
    "df_magazines = df_magazines.replace('', '.').fillna('.')"
   ],
   "id": "615df9571e279387",
   "outputs": [],
   "execution_count": 14
  },
  {
   "metadata": {},
   "cell_type": "markdown",
   "source": "## Insert links to the diskmags catalogue",
   "id": "a7052d367d90c378"
  },
  {
   "metadata": {
    "ExecuteTime": {
     "end_time": "2024-07-15T13:51:45.962088Z",
     "start_time": "2024-07-15T13:51:45.949781Z"
    }
   },
   "cell_type": "code",
   "source": [
    "def create_link(value):\n",
    "    if value != '.':\n",
    "        return f\"https://diskmags.de/index.php?title={value.replace(' ', '_')}\"\n",
    "    else:\n",
    "        return '.'"
   ],
   "id": "82c95ece30fa135a",
   "outputs": [],
   "execution_count": 15
  },
  {
   "metadata": {
    "ExecuteTime": {
     "end_time": "2024-07-15T13:51:46.496148Z",
     "start_time": "2024-07-15T13:51:46.486123Z"
    }
   },
   "cell_type": "code",
   "source": "df_magazines['diskmags_catalogue_link'] = df_magazines['magazine_title'].apply(create_link)",
   "id": "719b63ec9087d06e",
   "outputs": [],
   "execution_count": 16
  },
  {
   "metadata": {
    "ExecuteTime": {
     "end_time": "2024-07-15T13:51:46.979246Z",
     "start_time": "2024-07-15T13:51:46.960326Z"
    }
   },
   "cell_type": "code",
   "source": "df_issues['diskmags_catalogue_link'] = df_issues['issue_title'].apply(create_link)",
   "id": "ecfc570c387fb64d",
   "outputs": [],
   "execution_count": 17
  },
  {
   "metadata": {
    "ExecuteTime": {
     "end_time": "2024-07-15T13:51:47.521896Z",
     "start_time": "2024-07-15T13:51:47.500588Z"
    }
   },
   "cell_type": "code",
   "source": [
    "df_magazines = df_magazines.sort_values(by='magazine_title', key=lambda x: x.str.lower())\n",
    "df_issues = df_issues.sort_values(by='issue_title', key=lambda x: x.str.lower())"
   ],
   "id": "7e3275202a648518",
   "outputs": [],
   "execution_count": 18
  },
  {
   "metadata": {},
   "cell_type": "markdown",
   "source": "## Reorder the columns",
   "id": "ce08902cf0b09d6a"
  },
  {
   "metadata": {
    "ExecuteTime": {
     "end_time": "2024-07-15T13:51:48.625620Z",
     "start_time": "2024-07-15T13:51:48.605591Z"
    }
   },
   "cell_type": "code",
   "source": [
    "new_order_issues = ['issue_title', 'orig_issue_title', 'magazine_title', 'origin',\n",
    "       'language', 'release_date', 'system_name_standardized', 'system_name',\n",
    "       'editor', 'source', 'link', 'diskmags_catalogue_link', 'disclaimer']\n",
    "df_issues = df_issues[new_order_issues]\n",
    "df_issues = df_issues.rename(columns={'orig_issue_title': 'issue_title_original', 'link': 'source_link'})"
   ],
   "id": "5e8b101d91446d1e",
   "outputs": [],
   "execution_count": 19
  },
  {
   "metadata": {
    "ExecuteTime": {
     "end_time": "2024-07-15T13:51:49.362105Z",
     "start_time": "2024-07-15T13:51:49.355820Z"
    }
   },
   "cell_type": "code",
   "source": [
    "new_order_magazines = ['magazine_title', 'aka', 'language', 'origin', 'first_publication_date',\n",
    "       'last_publication_date', 'system', 'source', 'editor', 'region',\n",
    "       'diskmags_catalogue_link']\n",
    "df_magazines = df_magazines[new_order_magazines]\n",
    "df_magazines = df_magazines.drop('region', axis='columns')"
   ],
   "id": "de1da228dbf894",
   "outputs": [],
   "execution_count": 20
  },
  {
   "metadata": {
    "ExecuteTime": {
     "end_time": "2024-07-15T13:51:49.980392Z",
     "start_time": "2024-07-15T13:51:49.968902Z"
    }
   },
   "cell_type": "code",
   "source": "df_magazines.head()",
   "id": "95366e2f660f2e16",
   "outputs": [
    {
     "data": {
      "text/plain": [
       "  magazine_title aka  language origin first_publication_date  \\\n",
       "0      Alamakota   .       pol     PL             1991-05-10   \n",
       "1       Ale Jaja   .       pol     PL                   1994   \n",
       "2     Always (2)   .  eng; pol     PL                   1993   \n",
       "3          Amber   .       eng     PL                   1998   \n",
       "4        AmigaCS   .       cze     CZ             1998-03-21   \n",
       "\n",
       "  last_publication_date         system  \\\n",
       "0                  1992  AMIGA OCS/ECS   \n",
       "1                  1994  AMIGA OCS/ECS   \n",
       "2                  1996   Commodore 64   \n",
       "3               1999-12         MS-DOS   \n",
       "4            1998-12-20      AMIGA AGA   \n",
       "\n",
       "                                              source  \\\n",
       "0                                     Demozoo; Pouet   \n",
       "1                                            Demozoo   \n",
       "2                      CSDB; Internet Archive; Pouet   \n",
       "3  Demozoo; Internet Archive; Pouet; Volko Encycl...   \n",
       "4                                     Demozoo; Pouet   \n",
       "\n",
       "                       editor                         diskmags_catalogue_link  \n",
       "0         Luzers; Luzers Team   https://diskmags.de/index.php?title=Alamakota  \n",
       "1                      Maksiu    https://diskmags.de/index.php?title=Ale_Jaja  \n",
       "2              Elysium; Sunga  https://diskmags.de/index.php?title=Always_(2)  \n",
       "3  Amber Diskmag Editing Team       https://diskmags.de/index.php?title=Amber  \n",
       "4                       Abort     https://diskmags.de/index.php?title=AmigaCS  "
      ],
      "text/html": [
       "<div>\n",
       "<style scoped>\n",
       "    .dataframe tbody tr th:only-of-type {\n",
       "        vertical-align: middle;\n",
       "    }\n",
       "\n",
       "    .dataframe tbody tr th {\n",
       "        vertical-align: top;\n",
       "    }\n",
       "\n",
       "    .dataframe thead th {\n",
       "        text-align: right;\n",
       "    }\n",
       "</style>\n",
       "<table border=\"1\" class=\"dataframe\">\n",
       "  <thead>\n",
       "    <tr style=\"text-align: right;\">\n",
       "      <th></th>\n",
       "      <th>magazine_title</th>\n",
       "      <th>aka</th>\n",
       "      <th>language</th>\n",
       "      <th>origin</th>\n",
       "      <th>first_publication_date</th>\n",
       "      <th>last_publication_date</th>\n",
       "      <th>system</th>\n",
       "      <th>source</th>\n",
       "      <th>editor</th>\n",
       "      <th>diskmags_catalogue_link</th>\n",
       "    </tr>\n",
       "  </thead>\n",
       "  <tbody>\n",
       "    <tr>\n",
       "      <th>0</th>\n",
       "      <td>Alamakota</td>\n",
       "      <td>.</td>\n",
       "      <td>pol</td>\n",
       "      <td>PL</td>\n",
       "      <td>1991-05-10</td>\n",
       "      <td>1992</td>\n",
       "      <td>AMIGA OCS/ECS</td>\n",
       "      <td>Demozoo; Pouet</td>\n",
       "      <td>Luzers; Luzers Team</td>\n",
       "      <td>https://diskmags.de/index.php?title=Alamakota</td>\n",
       "    </tr>\n",
       "    <tr>\n",
       "      <th>1</th>\n",
       "      <td>Ale Jaja</td>\n",
       "      <td>.</td>\n",
       "      <td>pol</td>\n",
       "      <td>PL</td>\n",
       "      <td>1994</td>\n",
       "      <td>1994</td>\n",
       "      <td>AMIGA OCS/ECS</td>\n",
       "      <td>Demozoo</td>\n",
       "      <td>Maksiu</td>\n",
       "      <td>https://diskmags.de/index.php?title=Ale_Jaja</td>\n",
       "    </tr>\n",
       "    <tr>\n",
       "      <th>2</th>\n",
       "      <td>Always (2)</td>\n",
       "      <td>.</td>\n",
       "      <td>eng; pol</td>\n",
       "      <td>PL</td>\n",
       "      <td>1993</td>\n",
       "      <td>1996</td>\n",
       "      <td>Commodore 64</td>\n",
       "      <td>CSDB; Internet Archive; Pouet</td>\n",
       "      <td>Elysium; Sunga</td>\n",
       "      <td>https://diskmags.de/index.php?title=Always_(2)</td>\n",
       "    </tr>\n",
       "    <tr>\n",
       "      <th>3</th>\n",
       "      <td>Amber</td>\n",
       "      <td>.</td>\n",
       "      <td>eng</td>\n",
       "      <td>PL</td>\n",
       "      <td>1998</td>\n",
       "      <td>1999-12</td>\n",
       "      <td>MS-DOS</td>\n",
       "      <td>Demozoo; Internet Archive; Pouet; Volko Encycl...</td>\n",
       "      <td>Amber Diskmag Editing Team</td>\n",
       "      <td>https://diskmags.de/index.php?title=Amber</td>\n",
       "    </tr>\n",
       "    <tr>\n",
       "      <th>4</th>\n",
       "      <td>AmigaCS</td>\n",
       "      <td>.</td>\n",
       "      <td>cze</td>\n",
       "      <td>CZ</td>\n",
       "      <td>1998-03-21</td>\n",
       "      <td>1998-12-20</td>\n",
       "      <td>AMIGA AGA</td>\n",
       "      <td>Demozoo; Pouet</td>\n",
       "      <td>Abort</td>\n",
       "      <td>https://diskmags.de/index.php?title=AmigaCS</td>\n",
       "    </tr>\n",
       "  </tbody>\n",
       "</table>\n",
       "</div>"
      ]
     },
     "execution_count": 21,
     "metadata": {},
     "output_type": "execute_result"
    }
   ],
   "execution_count": 21
  },
  {
   "metadata": {
    "ExecuteTime": {
     "end_time": "2024-07-15T13:51:50.997467Z",
     "start_time": "2024-07-15T13:51:50.974487Z"
    }
   },
   "cell_type": "code",
   "source": "df_issues.head()",
   "id": "84515dd349d22c0d",
   "outputs": [
    {
     "data": {
      "text/plain": [
       "         issue_title  issue_title_original magazine_title origin language  \\\n",
       "1124               .                     .     X-Magazine     CZ      cze   \n",
       "1123               .                     .        ZX Land     PL      pol   \n",
       "0     Alamakota No.0           Alamakota 0      Alamakota     PL      pol   \n",
       "1     Alamakota No.0  Alamakota - issue #0      Alamakota     PL      pol   \n",
       "3     Alamakota No.1           Alamakota 1      Alamakota     PL      pol   \n",
       "\n",
       "     release_date system_name_standardized    system_name       editor  \\\n",
       "1124            .              ZX Spectrum    ZX Spectrum            .   \n",
       "1123            .              ZX Spectrum    ZX Spectrum            .   \n",
       "0      1991-05-10                    Amiga  Amiga OCS/ECS       Luzers   \n",
       "1         1991-05                    Amiga  Amiga OCS/ECS  Luzers Team   \n",
       "3         1991-09                    Amiga  Amiga OCS/ECS       Luzers   \n",
       "\n",
       "       source                                 source_link  \\\n",
       "1124  ZXpress         https://zxpress.ru/issue.php?id=311   \n",
       "1123  ZXpress         https://zxpress.ru/issue.php?id=303   \n",
       "0     Demozoo    https://demozoo.org//productions/249444/   \n",
       "1       Pouet  https://www.pouet.net/prod.php?which=60514   \n",
       "3     Demozoo    https://demozoo.org//productions/249445/   \n",
       "\n",
       "                                diskmags_catalogue_link disclaimer  \n",
       "1124                                                  .          .  \n",
       "1123                                                  .          .  \n",
       "0     https://diskmags.de/index.php?title=Alamakota_...          .  \n",
       "1     https://diskmags.de/index.php?title=Alamakota_...          .  \n",
       "3     https://diskmags.de/index.php?title=Alamakota_...          .  "
      ],
      "text/html": [
       "<div>\n",
       "<style scoped>\n",
       "    .dataframe tbody tr th:only-of-type {\n",
       "        vertical-align: middle;\n",
       "    }\n",
       "\n",
       "    .dataframe tbody tr th {\n",
       "        vertical-align: top;\n",
       "    }\n",
       "\n",
       "    .dataframe thead th {\n",
       "        text-align: right;\n",
       "    }\n",
       "</style>\n",
       "<table border=\"1\" class=\"dataframe\">\n",
       "  <thead>\n",
       "    <tr style=\"text-align: right;\">\n",
       "      <th></th>\n",
       "      <th>issue_title</th>\n",
       "      <th>issue_title_original</th>\n",
       "      <th>magazine_title</th>\n",
       "      <th>origin</th>\n",
       "      <th>language</th>\n",
       "      <th>release_date</th>\n",
       "      <th>system_name_standardized</th>\n",
       "      <th>system_name</th>\n",
       "      <th>editor</th>\n",
       "      <th>source</th>\n",
       "      <th>source_link</th>\n",
       "      <th>diskmags_catalogue_link</th>\n",
       "      <th>disclaimer</th>\n",
       "    </tr>\n",
       "  </thead>\n",
       "  <tbody>\n",
       "    <tr>\n",
       "      <th>1124</th>\n",
       "      <td>.</td>\n",
       "      <td>.</td>\n",
       "      <td>X-Magazine</td>\n",
       "      <td>CZ</td>\n",
       "      <td>cze</td>\n",
       "      <td>.</td>\n",
       "      <td>ZX Spectrum</td>\n",
       "      <td>ZX Spectrum</td>\n",
       "      <td>.</td>\n",
       "      <td>ZXpress</td>\n",
       "      <td>https://zxpress.ru/issue.php?id=311</td>\n",
       "      <td>.</td>\n",
       "      <td>.</td>\n",
       "    </tr>\n",
       "    <tr>\n",
       "      <th>1123</th>\n",
       "      <td>.</td>\n",
       "      <td>.</td>\n",
       "      <td>ZX Land</td>\n",
       "      <td>PL</td>\n",
       "      <td>pol</td>\n",
       "      <td>.</td>\n",
       "      <td>ZX Spectrum</td>\n",
       "      <td>ZX Spectrum</td>\n",
       "      <td>.</td>\n",
       "      <td>ZXpress</td>\n",
       "      <td>https://zxpress.ru/issue.php?id=303</td>\n",
       "      <td>.</td>\n",
       "      <td>.</td>\n",
       "    </tr>\n",
       "    <tr>\n",
       "      <th>0</th>\n",
       "      <td>Alamakota No.0</td>\n",
       "      <td>Alamakota 0</td>\n",
       "      <td>Alamakota</td>\n",
       "      <td>PL</td>\n",
       "      <td>pol</td>\n",
       "      <td>1991-05-10</td>\n",
       "      <td>Amiga</td>\n",
       "      <td>Amiga OCS/ECS</td>\n",
       "      <td>Luzers</td>\n",
       "      <td>Demozoo</td>\n",
       "      <td>https://demozoo.org//productions/249444/</td>\n",
       "      <td>https://diskmags.de/index.php?title=Alamakota_...</td>\n",
       "      <td>.</td>\n",
       "    </tr>\n",
       "    <tr>\n",
       "      <th>1</th>\n",
       "      <td>Alamakota No.0</td>\n",
       "      <td>Alamakota - issue #0</td>\n",
       "      <td>Alamakota</td>\n",
       "      <td>PL</td>\n",
       "      <td>pol</td>\n",
       "      <td>1991-05</td>\n",
       "      <td>Amiga</td>\n",
       "      <td>Amiga OCS/ECS</td>\n",
       "      <td>Luzers Team</td>\n",
       "      <td>Pouet</td>\n",
       "      <td>https://www.pouet.net/prod.php?which=60514</td>\n",
       "      <td>https://diskmags.de/index.php?title=Alamakota_...</td>\n",
       "      <td>.</td>\n",
       "    </tr>\n",
       "    <tr>\n",
       "      <th>3</th>\n",
       "      <td>Alamakota No.1</td>\n",
       "      <td>Alamakota 1</td>\n",
       "      <td>Alamakota</td>\n",
       "      <td>PL</td>\n",
       "      <td>pol</td>\n",
       "      <td>1991-09</td>\n",
       "      <td>Amiga</td>\n",
       "      <td>Amiga OCS/ECS</td>\n",
       "      <td>Luzers</td>\n",
       "      <td>Demozoo</td>\n",
       "      <td>https://demozoo.org//productions/249445/</td>\n",
       "      <td>https://diskmags.de/index.php?title=Alamakota_...</td>\n",
       "      <td>.</td>\n",
       "    </tr>\n",
       "  </tbody>\n",
       "</table>\n",
       "</div>"
      ]
     },
     "execution_count": 22,
     "metadata": {},
     "output_type": "execute_result"
    }
   ],
   "execution_count": 22
  },
  {
   "metadata": {
    "ExecuteTime": {
     "end_time": "2024-07-15T16:07:54.923722Z",
     "start_time": "2024-07-15T16:07:54.910212Z"
    }
   },
   "cell_type": "code",
   "source": [
    "df_magazines.to_csv('../data/target_data/east_middle_europe_magazines.csv', encoding='utf-16', index=False)\n",
    "df_issues.to_csv('../data/target_data/east_middle_europe_magazines_issues.csv', encoding='utf-16', index=False)"
   ],
   "id": "e7519bbce6f490a5",
   "outputs": [],
   "execution_count": 24
  },
  {
   "metadata": {},
   "cell_type": "code",
   "outputs": [],
   "execution_count": null,
   "source": "",
   "id": "c28d2a56ec8d7014"
  }
 ],
 "metadata": {
  "kernelspec": {
   "display_name": "Python 3",
   "language": "python",
   "name": "python3"
  },
  "language_info": {
   "codemirror_mode": {
    "name": "ipython",
    "version": 2
   },
   "file_extension": ".py",
   "mimetype": "text/x-python",
   "name": "python",
   "nbconvert_exporter": "python",
   "pygments_lexer": "ipython2",
   "version": "2.7.6"
  }
 },
 "nbformat": 4,
 "nbformat_minor": 5
}
