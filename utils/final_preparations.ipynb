{
 "cells": [
  {
   "cell_type": "code",
   "id": "initial_id",
   "metadata": {
    "collapsed": true,
    "ExecuteTime": {
     "end_time": "2024-07-14T16:42:15.929717Z",
     "start_time": "2024-07-14T16:42:14.104099Z"
    }
   },
   "source": "import pandas as pd",
   "outputs": [],
   "execution_count": 1
  },
  {
   "metadata": {
    "ExecuteTime": {
     "end_time": "2024-07-14T16:42:16.831143Z",
     "start_time": "2024-07-14T16:42:16.799106Z"
    }
   },
   "cell_type": "code",
   "source": [
    "df_magazines = pd.read_csv('../data/target_data/east_middle_europe_magazines.csv', encoding='utf-16')\n",
    "df_issues = pd.read_csv('../data/target_data/east_middle_europe_magazines_issues.csv', encoding='utf-16')"
   ],
   "id": "def735810b9dce10",
   "outputs": [],
   "execution_count": 2
  },
  {
   "metadata": {
    "ExecuteTime": {
     "end_time": "2024-07-14T16:42:44.613839Z",
     "start_time": "2024-07-14T16:42:44.597978Z"
    }
   },
   "cell_type": "code",
   "source": "df_magazines = df_magazines.sort_values(by=['magazine_title'], key=lambda x: x.str.lower())",
   "id": "e9bf4e2261ee7b3",
   "outputs": [],
   "execution_count": 4
  },
  {
   "metadata": {
    "ExecuteTime": {
     "end_time": "2024-07-14T16:42:47.171751Z",
     "start_time": "2024-07-14T16:42:47.155625Z"
    }
   },
   "cell_type": "code",
   "source": "df_issues = df_issues.sort_values(by=['issue_title'], key=lambda x: x.str.lower())",
   "id": "176f87886577c02e",
   "outputs": [],
   "execution_count": 5
  },
  {
   "metadata": {
    "ExecuteTime": {
     "end_time": "2024-07-14T16:42:50.567254Z",
     "start_time": "2024-07-14T16:42:50.553694Z"
    }
   },
   "cell_type": "code",
   "source": [
    "df_magazines.to_csv('../data/target_data/east_middle_europe_magazines.csv', index=False, encoding='utf-16')\n",
    "df_issues.to_csv('../data/target_data/east_middle_europe_magazines_issues.csv', index=False, encoding='utf-16')"
   ],
   "id": "6137583cac636065",
   "outputs": [],
   "execution_count": 6
  },
  {
   "metadata": {
    "ExecuteTime": {
     "end_time": "2024-07-14T16:42:52.149700Z",
     "start_time": "2024-07-14T16:42:52.133955Z"
    }
   },
   "cell_type": "code",
   "source": "df_issues_sorted = df_issues.sort_values(by=['source'], key=lambda x: x.str.lower())",
   "id": "ef414856c47429bf",
   "outputs": [],
   "execution_count": 7
  },
  {
   "metadata": {
    "ExecuteTime": {
     "end_time": "2024-07-14T16:42:52.809118Z",
     "start_time": "2024-07-14T16:42:52.793513Z"
    }
   },
   "cell_type": "code",
   "source": [
    "def join_non_missing(values):\n",
    "    target = []\n",
    "    for value in values:\n",
    "        if pd.notna(value):\n",
    "            value = value.split('; ')\n",
    "            for v in value:\n",
    "                if v not in target:\n",
    "                    target.append(v)\n",
    "    return '; '.join(target)"
   ],
   "id": "8bd98d2f16071a1",
   "outputs": [],
   "execution_count": 8
  },
  {
   "metadata": {
    "ExecuteTime": {
     "end_time": "2024-07-14T16:42:54.031989Z",
     "start_time": "2024-07-14T16:42:53.923470Z"
    }
   },
   "cell_type": "code",
   "source": "df_issues_merged = df_issues_sorted.groupby(['issue_title', 'magazine_title']).agg(join_non_missing).reset_index()",
   "id": "30d9b80596dff7c2",
   "outputs": [],
   "execution_count": 9
  },
  {
   "metadata": {
    "ExecuteTime": {
     "end_time": "2024-07-14T16:42:55.811777Z",
     "start_time": "2024-07-14T16:42:55.779645Z"
    }
   },
   "cell_type": "code",
   "source": "df_issues_merged",
   "id": "a3c746c59b1a5c5a",
   "outputs": [
    {
     "data": {
      "text/plain": [
       "          issue_title magazine_title                   orig_issue_title  \\\n",
       "0      Alamakota No.0      Alamakota  Alamakota 0; Alamakota - issue #0   \n",
       "1      Alamakota No.1      Alamakota  Alamakota 1; alamakota - issue #1   \n",
       "2      Alamakota No.2      Alamakota  Alamakota 2; alamakota - issue #2   \n",
       "3      Alamakota No.3      Alamakota  Alamakota 3; Alamakota - issue #3   \n",
       "4    Ale Jaja (issue)       Ale Jaja                           Ale Jaja   \n",
       "..                ...            ...                                ...   \n",
       "586      Zig Zag No.8        Zig Zag             Zig Zag 8; Zig Zag #08   \n",
       "587        Zosia No.1          Zosia                  Zosia 1; zosia #1   \n",
       "588        Zosia No.2          Zosia                  Zosia 2; zosia #2   \n",
       "589        Zosia No.3          Zosia                  Zosia 3; zosia #3   \n",
       "590        Zosia No.4          Zosia                  Zosia 4; zosia #4   \n",
       "\n",
       "     origin language         release_date system_name_standardized  \\\n",
       "0    Poland   Polish  1991-05-10; 1991-05                    Amiga   \n",
       "1    Poland   Polish     1991-09; 1991-08                    Amiga   \n",
       "2    Poland   Polish     1991-11; 1991-10                    Amiga   \n",
       "3    Poland   Polish                 1992                    Amiga   \n",
       "4    Poland   Polish                 1994                    Amiga   \n",
       "..      ...      ...                  ...                      ...   \n",
       "586  Poland   Polish  1994-04-26; 1994-04                    Amiga   \n",
       "587  Poland  English              1999-12                    Amiga   \n",
       "588  Poland  English  2000-04-25; 2000-04                    Amiga   \n",
       "589  Poland  English                 2000                    Amiga   \n",
       "590  Poland  English  2001-09-15; 2001-09                    Amiga   \n",
       "\n",
       "                  system_name                  editor          source  \\\n",
       "0               Amiga OCS/ECS     Luzers; Luzers Team  Demozoo; Pouet   \n",
       "1               Amiga OCS/ECS     Luzers; Luzers Team  Demozoo; Pouet   \n",
       "2               Amiga OCS/ECS     Luzers; Luzers Team  Demozoo; Pouet   \n",
       "3               Amiga OCS/ECS     Luzers; Luzers Team  Demozoo; Pouet   \n",
       "4               Amiga OCS/ECS                  Maksiu         Demozoo   \n",
       "..                        ...                     ...             ...   \n",
       "586             Amiga OCS/ECS                   Union  Demozoo; Pouet   \n",
       "587                 Amiga AGA  Madwizards; MadWizards  Demozoo; Pouet   \n",
       "588  Amiga OCS/ECS; Amiga AGA  Madwizards; MadWizards  Demozoo; Pouet   \n",
       "589                 Amiga AGA  Madwizards; MadWizards  Demozoo; Pouet   \n",
       "590                 Amiga AGA  Madwizards; MadWizards  Demozoo; Pouet   \n",
       "\n",
       "                                                  link disclaimer  \n",
       "0    https://demozoo.org//productions/249444/; http...             \n",
       "1    https://demozoo.org//productions/249445/; http...       Tier  \n",
       "2    https://demozoo.org//productions/249446/; http...             \n",
       "3    https://demozoo.org//productions/249447/; http...             \n",
       "4             https://demozoo.org//productions/220181/             \n",
       "..                                                 ...        ...  \n",
       "586  https://demozoo.org//productions/139133/; http...             \n",
       "587  https://demozoo.org//productions/9059/; https:...             \n",
       "588  https://demozoo.org//productions/248743/; http...             \n",
       "589  https://demozoo.org//productions/9060/; https:...             \n",
       "590  https://demozoo.org//productions/9341/; https:...             \n",
       "\n",
       "[591 rows x 12 columns]"
      ],
      "text/html": [
       "<div>\n",
       "<style scoped>\n",
       "    .dataframe tbody tr th:only-of-type {\n",
       "        vertical-align: middle;\n",
       "    }\n",
       "\n",
       "    .dataframe tbody tr th {\n",
       "        vertical-align: top;\n",
       "    }\n",
       "\n",
       "    .dataframe thead th {\n",
       "        text-align: right;\n",
       "    }\n",
       "</style>\n",
       "<table border=\"1\" class=\"dataframe\">\n",
       "  <thead>\n",
       "    <tr style=\"text-align: right;\">\n",
       "      <th></th>\n",
       "      <th>issue_title</th>\n",
       "      <th>magazine_title</th>\n",
       "      <th>orig_issue_title</th>\n",
       "      <th>origin</th>\n",
       "      <th>language</th>\n",
       "      <th>release_date</th>\n",
       "      <th>system_name_standardized</th>\n",
       "      <th>system_name</th>\n",
       "      <th>editor</th>\n",
       "      <th>source</th>\n",
       "      <th>link</th>\n",
       "      <th>disclaimer</th>\n",
       "    </tr>\n",
       "  </thead>\n",
       "  <tbody>\n",
       "    <tr>\n",
       "      <th>0</th>\n",
       "      <td>Alamakota No.0</td>\n",
       "      <td>Alamakota</td>\n",
       "      <td>Alamakota 0; Alamakota - issue #0</td>\n",
       "      <td>Poland</td>\n",
       "      <td>Polish</td>\n",
       "      <td>1991-05-10; 1991-05</td>\n",
       "      <td>Amiga</td>\n",
       "      <td>Amiga OCS/ECS</td>\n",
       "      <td>Luzers; Luzers Team</td>\n",
       "      <td>Demozoo; Pouet</td>\n",
       "      <td>https://demozoo.org//productions/249444/; http...</td>\n",
       "      <td></td>\n",
       "    </tr>\n",
       "    <tr>\n",
       "      <th>1</th>\n",
       "      <td>Alamakota No.1</td>\n",
       "      <td>Alamakota</td>\n",
       "      <td>Alamakota 1; alamakota - issue #1</td>\n",
       "      <td>Poland</td>\n",
       "      <td>Polish</td>\n",
       "      <td>1991-09; 1991-08</td>\n",
       "      <td>Amiga</td>\n",
       "      <td>Amiga OCS/ECS</td>\n",
       "      <td>Luzers; Luzers Team</td>\n",
       "      <td>Demozoo; Pouet</td>\n",
       "      <td>https://demozoo.org//productions/249445/; http...</td>\n",
       "      <td>Tier</td>\n",
       "    </tr>\n",
       "    <tr>\n",
       "      <th>2</th>\n",
       "      <td>Alamakota No.2</td>\n",
       "      <td>Alamakota</td>\n",
       "      <td>Alamakota 2; alamakota - issue #2</td>\n",
       "      <td>Poland</td>\n",
       "      <td>Polish</td>\n",
       "      <td>1991-11; 1991-10</td>\n",
       "      <td>Amiga</td>\n",
       "      <td>Amiga OCS/ECS</td>\n",
       "      <td>Luzers; Luzers Team</td>\n",
       "      <td>Demozoo; Pouet</td>\n",
       "      <td>https://demozoo.org//productions/249446/; http...</td>\n",
       "      <td></td>\n",
       "    </tr>\n",
       "    <tr>\n",
       "      <th>3</th>\n",
       "      <td>Alamakota No.3</td>\n",
       "      <td>Alamakota</td>\n",
       "      <td>Alamakota 3; Alamakota - issue #3</td>\n",
       "      <td>Poland</td>\n",
       "      <td>Polish</td>\n",
       "      <td>1992</td>\n",
       "      <td>Amiga</td>\n",
       "      <td>Amiga OCS/ECS</td>\n",
       "      <td>Luzers; Luzers Team</td>\n",
       "      <td>Demozoo; Pouet</td>\n",
       "      <td>https://demozoo.org//productions/249447/; http...</td>\n",
       "      <td></td>\n",
       "    </tr>\n",
       "    <tr>\n",
       "      <th>4</th>\n",
       "      <td>Ale Jaja (issue)</td>\n",
       "      <td>Ale Jaja</td>\n",
       "      <td>Ale Jaja</td>\n",
       "      <td>Poland</td>\n",
       "      <td>Polish</td>\n",
       "      <td>1994</td>\n",
       "      <td>Amiga</td>\n",
       "      <td>Amiga OCS/ECS</td>\n",
       "      <td>Maksiu</td>\n",
       "      <td>Demozoo</td>\n",
       "      <td>https://demozoo.org//productions/220181/</td>\n",
       "      <td></td>\n",
       "    </tr>\n",
       "    <tr>\n",
       "      <th>...</th>\n",
       "      <td>...</td>\n",
       "      <td>...</td>\n",
       "      <td>...</td>\n",
       "      <td>...</td>\n",
       "      <td>...</td>\n",
       "      <td>...</td>\n",
       "      <td>...</td>\n",
       "      <td>...</td>\n",
       "      <td>...</td>\n",
       "      <td>...</td>\n",
       "      <td>...</td>\n",
       "      <td>...</td>\n",
       "    </tr>\n",
       "    <tr>\n",
       "      <th>586</th>\n",
       "      <td>Zig Zag No.8</td>\n",
       "      <td>Zig Zag</td>\n",
       "      <td>Zig Zag 8; Zig Zag #08</td>\n",
       "      <td>Poland</td>\n",
       "      <td>Polish</td>\n",
       "      <td>1994-04-26; 1994-04</td>\n",
       "      <td>Amiga</td>\n",
       "      <td>Amiga OCS/ECS</td>\n",
       "      <td>Union</td>\n",
       "      <td>Demozoo; Pouet</td>\n",
       "      <td>https://demozoo.org//productions/139133/; http...</td>\n",
       "      <td></td>\n",
       "    </tr>\n",
       "    <tr>\n",
       "      <th>587</th>\n",
       "      <td>Zosia No.1</td>\n",
       "      <td>Zosia</td>\n",
       "      <td>Zosia 1; zosia #1</td>\n",
       "      <td>Poland</td>\n",
       "      <td>English</td>\n",
       "      <td>1999-12</td>\n",
       "      <td>Amiga</td>\n",
       "      <td>Amiga AGA</td>\n",
       "      <td>Madwizards; MadWizards</td>\n",
       "      <td>Demozoo; Pouet</td>\n",
       "      <td>https://demozoo.org//productions/9059/; https:...</td>\n",
       "      <td></td>\n",
       "    </tr>\n",
       "    <tr>\n",
       "      <th>588</th>\n",
       "      <td>Zosia No.2</td>\n",
       "      <td>Zosia</td>\n",
       "      <td>Zosia 2; zosia #2</td>\n",
       "      <td>Poland</td>\n",
       "      <td>English</td>\n",
       "      <td>2000-04-25; 2000-04</td>\n",
       "      <td>Amiga</td>\n",
       "      <td>Amiga OCS/ECS; Amiga AGA</td>\n",
       "      <td>Madwizards; MadWizards</td>\n",
       "      <td>Demozoo; Pouet</td>\n",
       "      <td>https://demozoo.org//productions/248743/; http...</td>\n",
       "      <td></td>\n",
       "    </tr>\n",
       "    <tr>\n",
       "      <th>589</th>\n",
       "      <td>Zosia No.3</td>\n",
       "      <td>Zosia</td>\n",
       "      <td>Zosia 3; zosia #3</td>\n",
       "      <td>Poland</td>\n",
       "      <td>English</td>\n",
       "      <td>2000</td>\n",
       "      <td>Amiga</td>\n",
       "      <td>Amiga AGA</td>\n",
       "      <td>Madwizards; MadWizards</td>\n",
       "      <td>Demozoo; Pouet</td>\n",
       "      <td>https://demozoo.org//productions/9060/; https:...</td>\n",
       "      <td></td>\n",
       "    </tr>\n",
       "    <tr>\n",
       "      <th>590</th>\n",
       "      <td>Zosia No.4</td>\n",
       "      <td>Zosia</td>\n",
       "      <td>Zosia 4; zosia #4</td>\n",
       "      <td>Poland</td>\n",
       "      <td>English</td>\n",
       "      <td>2001-09-15; 2001-09</td>\n",
       "      <td>Amiga</td>\n",
       "      <td>Amiga AGA</td>\n",
       "      <td>Madwizards; MadWizards</td>\n",
       "      <td>Demozoo; Pouet</td>\n",
       "      <td>https://demozoo.org//productions/9341/; https:...</td>\n",
       "      <td></td>\n",
       "    </tr>\n",
       "  </tbody>\n",
       "</table>\n",
       "<p>591 rows × 12 columns</p>\n",
       "</div>"
      ]
     },
     "execution_count": 10,
     "metadata": {},
     "output_type": "execute_result"
    }
   ],
   "execution_count": 10
  },
  {
   "metadata": {
    "ExecuteTime": {
     "end_time": "2024-07-14T16:49:57.981089Z",
     "start_time": "2024-07-14T16:49:57.965289Z"
    }
   },
   "cell_type": "code",
   "source": [
    "df_issues_merged = df_issues_merged.rename(columns={'issue_title': 'Title', \n",
    "                                                    'magazine_title': 'Issue[Magazine]',\n",
    "                                                    'orig_issue_title': 'Issue[Spellings]',\n",
    "                                                    'origin': 'Issue[Origin]',\n",
    "                                                    'language': 'Issue[Language]',\n",
    "                                                    'release_date': 'Issue[Release Date]',\n",
    "                                                    'system_name_standardized': 'Issue[OriginalSystemName]',\n",
    "                                                    'system_name': 'Issue[Systems]',\n",
    "                                                    'editor': 'Issue[Groups]',\n",
    "                                                    'source': 'Issue[Source]',\n",
    "                                                    'link': 'Issue[Links]',\n",
    "                                                    'disclaimer': 'Issue[Disclaimer]'})"
   ],
   "id": "4ca6bf9a0f7322a8",
   "outputs": [],
   "execution_count": 11
  },
  {
   "metadata": {
    "ExecuteTime": {
     "end_time": "2024-07-14T16:49:58.939204Z",
     "start_time": "2024-07-14T16:49:58.914329Z"
    }
   },
   "cell_type": "code",
   "source": "df_issues_merged.to_csv('../data/target_data/mw_import_east_middle_europe_magazines_issues.csv', encoding='utf-16', index=False)",
   "id": "fdd811875043820a",
   "outputs": [],
   "execution_count": 12
  },
  {
   "metadata": {},
   "cell_type": "code",
   "source": "",
   "id": "15a141d4f8ab043f",
   "outputs": [],
   "execution_count": null
  }
 ],
 "metadata": {
  "kernelspec": {
   "display_name": "Python 3",
   "language": "python",
   "name": "python3"
  },
  "language_info": {
   "codemirror_mode": {
    "name": "ipython",
    "version": 2
   },
   "file_extension": ".py",
   "mimetype": "text/x-python",
   "name": "python",
   "nbconvert_exporter": "python",
   "pygments_lexer": "ipython2",
   "version": "2.7.6"
  }
 },
 "nbformat": 4,
 "nbformat_minor": 5
}
