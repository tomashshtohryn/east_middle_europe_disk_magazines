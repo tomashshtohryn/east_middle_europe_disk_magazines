{
 "cells": [
  {
   "cell_type": "code",
   "id": "initial_id",
   "metadata": {
    "collapsed": true,
    "jupyter": {
     "outputs_hidden": true
    },
    "ExecuteTime": {
     "end_time": "2024-06-25T12:13:43.640922Z",
     "start_time": "2024-06-25T12:13:43.226757Z"
    }
   },
   "source": [
    "import pandas as pd\n",
    "import numpy as np"
   ],
   "outputs": [],
   "execution_count": 1
  },
  {
   "cell_type": "markdown",
   "id": "ea0a53a1dbc039c4",
   "metadata": {
    "collapsed": false,
    "jupyter": {
     "outputs_hidden": false
    }
   },
   "source": [
    "## 1. Create mapping for all systems\n",
    "\n",
    "In order to obtain the original spellings of the systems we will use the following mapping:"
   ]
  },
  {
   "cell_type": "code",
   "id": "6ba4895f3ab1bccf",
   "metadata": {
    "collapsed": false,
    "jupyter": {
     "outputs_hidden": false
    },
    "ExecuteTime": {
     "end_time": "2024-06-25T12:13:43.672528Z",
     "start_time": "2024-06-25T12:13:43.652761Z"
    }
   },
   "source": [
    "df_systems = pd.read_csv('../data/source_datasets/umbenennung-systeme.csv', encoding='utf-8', sep=';')\n",
    "df_systems = df_systems.sort_values(by='name-in-tab', key=lambda x: x.str.lower())\n",
    "df_systems.reset_index(drop=True, inplace=True)"
   ],
   "outputs": [],
   "execution_count": 2
  },
  {
   "cell_type": "code",
   "id": "3d523decaa7aeace",
   "metadata": {
    "collapsed": false,
    "jupyter": {
     "outputs_hidden": false
    },
    "ExecuteTime": {
     "end_time": "2024-06-25T12:13:43.701037Z",
     "start_time": "2024-06-25T12:13:43.674529Z"
    }
   },
   "source": [
    "systems_mapping = df_systems.set_index(df_systems.columns[0]).squeeze().to_dict()"
   ],
   "outputs": [],
   "execution_count": 3
  },
  {
   "cell_type": "markdown",
   "id": "579d94479b11a878",
   "metadata": {
    "collapsed": false,
    "jupyter": {
     "outputs_hidden": false
    }
   },
   "source": "## 2. Load data"
  },
  {
   "metadata": {
    "ExecuteTime": {
     "end_time": "2024-06-25T12:13:43.716827Z",
     "start_time": "2024-06-25T12:13:43.703407Z"
    }
   },
   "cell_type": "code",
   "source": [
    "path_source = '../data/source_datasets'\n",
    "path_target = '../data/target_datasets'"
   ],
   "id": "be1356e0aac8e6d8",
   "outputs": [],
   "execution_count": 4
  },
  {
   "cell_type": "code",
   "id": "bde31b198e33d7f8",
   "metadata": {
    "collapsed": false,
    "jupyter": {
     "outputs_hidden": false
    },
    "ExecuteTime": {
     "end_time": "2024-06-25T12:13:43.846887Z",
     "start_time": "2024-06-25T12:13:43.718823Z"
    }
   },
   "source": [
    "df_main = pd.read_csv(f'{path_target}/east_middle_europe_magazines.csv', encoding='utf-16')\n",
    "df_csdb = pd.read_csv(f'{path_source}/diskmags_csdb.csv', encoding='utf-8')\n",
    "df_demozoo = pd.read_csv(f'{path_source}/diskmags_demozoo.csv', encoding='utf-8')\n",
    "df_internet_archive = pd.read_csv(f'{path_source}/diskmags_internet_archive.csv', encoding='utf-8')\n",
    "df_pouet = pd.read_csv(f'{path_source}/diskmags_pouet.csv', encoding='utf-8')\n",
    "df_zxpress = pd.read_csv(f'{path_source}/diskmags_zxpress.csv', encoding='utf-8')"
   ],
   "outputs": [],
   "execution_count": 5
  },
  {
   "cell_type": "markdown",
   "id": "ed308d659912586d",
   "metadata": {
    "collapsed": false,
    "jupyter": {
     "outputs_hidden": false
    }
   },
   "source": "## Collect metadata about each issue from all datasets and merge them to one comprehensive dataset"
  },
  {
   "cell_type": "code",
   "id": "1cec5185730d4f3b",
   "metadata": {
    "collapsed": false,
    "jupyter": {
     "outputs_hidden": false
    },
    "ExecuteTime": {
     "end_time": "2024-06-25T12:13:43.862509Z",
     "start_time": "2024-06-25T12:13:43.848934Z"
    }
   },
   "source": "column_order = ['title_cleaned', 'title_orig', 'magazine', 'release_date', 'source', 'language', 'origin', 'system_detailed', 'group', 'link']",
   "outputs": [],
   "execution_count": 6
  },
  {
   "cell_type": "code",
   "id": "ae314cd4c08b02bc",
   "metadata": {
    "collapsed": false,
    "jupyter": {
     "outputs_hidden": false
    },
    "ExecuteTime": {
     "end_time": "2024-06-25T12:13:43.878527Z",
     "start_time": "2024-06-25T12:13:43.864512Z"
    }
   },
   "source": [
    "df_issues_all = pd.DataFrame(columns=column_order)"
   ],
   "outputs": [],
   "execution_count": 7
  },
  {
   "cell_type": "code",
   "id": "e6b7ceb4518e7361",
   "metadata": {
    "collapsed": false,
    "jupyter": {
     "outputs_hidden": false
    },
    "ExecuteTime": {
     "end_time": "2024-06-25T12:13:44.600647Z",
     "start_time": "2024-06-25T12:13:43.880526Z"
    }
   },
   "source": [
    "for index, row in df_main.iterrows():\n",
    "    title = row['Title']\n",
    "    language = row['Magazine[Language]']\n",
    "    system = row['Magazine[Systems]']\n",
    "    source = row['Magazine[Source]'].split('; ')\n",
    "    origin = row['Magazine[Origin]']\n",
    "    \n",
    "    if 'CSDB' in source:\n",
    "        subset_csdb = df_csdb[df_csdb['title']==title].copy()\n",
    "        subset_csdb['language'] = language\n",
    "        subset_csdb['origin'] = origin\n",
    "        subset_csdb['system_detailed'] = 'Commodore 64'\n",
    "        subset_csdb['title_cleaned'] = subset_csdb['issue'].apply(lambda x: f'{x if not \"#\" in x or x.startswith(\"#\") else x.replace(\"#\", \"No.\")}')\n",
    "        subset_csdb['source'] = 'CSDB'\n",
    "        subset_csdb['group'] = subset_csdb['group'].apply(lambda x: '; '.join(x.split(', ')) if isinstance(x, str) else x)\n",
    "        subset_csdb = subset_csdb.rename(columns={'issue': 'title_orig',\n",
    "                                                  'title': 'magazine',\n",
    "                                                  'release_converted': 'release_date'})\n",
    "        subset_csdb = subset_csdb[column_order]\n",
    "        df_issues_all = pd.concat([df_issues_all, subset_csdb])\n",
    "\n",
    "    if 'Demozoo' in source:\n",
    "        subset_demozoo = df_demozoo[df_demozoo['title']==title].copy()\n",
    "        subset_demozoo['language'] = language\n",
    "        subset_demozoo['origin'] = origin\n",
    "        subset_demozoo['title_cleaned'] = subset_demozoo['issue'].apply(lambda x: f'{x if not \"#\" in x or x.startswith(\"#\") else x.replace(\"#\", \"No.\")}')\n",
    "        subset_demozoo['source'] = 'Demozoo'\n",
    "        subset_demozoo['group'] = subset_demozoo['group'].apply(lambda x: '; '.join(x.split(', ')) if isinstance(x, str) else x)\n",
    "        subset_demozoo['platform'] = subset_demozoo['platform'].apply(lambda x: '; '.join(x.split(', ')) if isinstance(x, str) else x)\n",
    "        subset_demozoo = subset_demozoo.rename(columns={'issue': 'title_orig',\n",
    "                                                        'title': 'magazine',\n",
    "                                                        'release_converted': 'release_date',\n",
    "                                                        'platform': 'system_detailed'})\n",
    "        subset_demozoo = subset_demozoo[column_order]\n",
    "        df_issues_all = pd.concat([df_issues_all, subset_demozoo])\n",
    "\n",
    "    if 'Pouet' in source:\n",
    "        subset_pouet = df_pouet[df_pouet['title']==title].copy()\n",
    "        subset_pouet['language'] = language\n",
    "        subset_pouet['origin'] = origin\n",
    "        subset_pouet['title_cleaned'] = subset_pouet['issue'].apply(lambda x: f'{x if not \"#\" in x or x.startswith(\"#\") else x.replace(\"#\", \"No.\")}')\n",
    "        subset_pouet['source'] = 'Pouet'\n",
    "        subset_pouet['group'] = subset_pouet['group'].apply(lambda x: '; '.join(x.split(', ')) if isinstance(x, str) else x)\n",
    "        subset_pouet['platform'] = subset_pouet['platform'].apply(lambda x: '; '.join(x.split(', ')) if isinstance(x, str) else x)\n",
    "        subset_pouet = subset_pouet.rename(columns={'issue': 'title_orig',\n",
    "                                                    'title': 'magazine',\n",
    "                                                    'release_converted': 'release_date',\n",
    "                                                    'platform': 'system_detailed'})\n",
    "        subset_pouet = subset_pouet[column_order]\n",
    "        df_issues_all = pd.concat([df_issues_all, subset_pouet])\n",
    "\n",
    "    if 'Internet Archive' in source:\n",
    "        subset_internetarchive = df_internet_archive[df_internet_archive['title']==title].copy()\n",
    "        subset_internetarchive['language'] = language\n",
    "        subset_internetarchive['origin'] = origin\n",
    "        subset_internetarchive['title_cleaned'] = subset_internetarchive['issue'].apply(lambda x: f'{x if not \"#\" in x or x.startswith(\"#\") else x.replace(\"#\", \"No.\")}')\n",
    "        subset_internetarchive['source'] = 'Internet Archive'\n",
    "        subset_internetarchive = subset_internetarchive.rename(columns={'issue':'title_orig',\n",
    "                                                                        'title': 'magazine',\n",
    "                                                                        'release': 'release_date',\n",
    "                                                                        'platform': 'system_detailed',\n",
    "                                                                        'creator': 'group'})\n",
    "        subset_internetarchive = subset_internetarchive[column_order]\n",
    "        df_issues_all = pd.concat([df_issues_all, subset_internetarchive])\n",
    "        \n",
    "    if 'ZXpress' in source:\n",
    "        subset_zxpress = df_zxpress[df_zxpress['title'] == title]\n",
    "        issues = subset_zxpress['issues'].iloc[0]\n",
    "        releases_zx = subset_zxpress['releases_converted'].iloc[0]\n",
    "        if isinstance(issues, str):\n",
    "            issues = issues.split(', ')\n",
    "        else:\n",
    "            issues = ['']\n",
    "        if isinstance(releases_zx, str):\n",
    "            releases_zx = releases_zx.split(', ')\n",
    "            releases_zx = releases_zx + ['']*(len(issues)-len(releases_zx))\n",
    "        else:\n",
    "            releases_zx = [''] * len(issues)\n",
    "        languages = [language] * len(issues)\n",
    "        systems = ['ZX Spectrum'] * len(issues)\n",
    "        zx_sources = ['ZXpress'] * len(issues)\n",
    "        origins = [origin] * len(issues)\n",
    "        links = [subset_zxpress['link'].iloc[0]] * len(issues)\n",
    "        groups = [np.nan] * len(issues)\n",
    "        if None in issues:\n",
    "            issues_origins = [f'{title} (ZXpress)']\n",
    "        else:\n",
    "            issues_origins = [f'{x[1:] if x.startswith(\"#\") else x.replace(\"#\", \"No.\")}' for x in issues]\n",
    "        magazine = [title] * len(issues)\n",
    "        dict = {'title_cleaned': issues_origins,\n",
    "                'title_orig': issues,\n",
    "                'magazine': magazine,\n",
    "                'release_date': releases_zx,\n",
    "                'source': zx_sources,\n",
    "                'language': languages,\n",
    "                'origin': origins,\n",
    "                'system_detailed': systems,\n",
    "                'group': groups,\n",
    "                'link': links}\n",
    "        subset_zxpress_n = pd.DataFrame(dict)\n",
    "        df_issues_all = pd.concat([df_issues_all, subset_zxpress_n])\n",
    " \n",
    "df_issues_all = df_issues_all.sort_values(by='title_cleaned', key=lambda x: x.str.lower())\n",
    "df_issues_all.reset_index(drop=True, inplace=True)"
   ],
   "outputs": [],
   "execution_count": 8
  },
  {
   "cell_type": "code",
   "id": "20985785a7915c0b",
   "metadata": {
    "collapsed": false,
    "jupyter": {
     "outputs_hidden": false
    },
    "ExecuteTime": {
     "end_time": "2024-06-25T12:13:44.615911Z",
     "start_time": "2024-06-25T12:13:44.602109Z"
    }
   },
   "source": [
    "df_issues_all_copy = df_issues_all.copy()"
   ],
   "outputs": [],
   "execution_count": 9
  },
  {
   "cell_type": "code",
   "id": "5b525f6bac445b75",
   "metadata": {
    "collapsed": false,
    "jupyter": {
     "outputs_hidden": false
    },
    "ExecuteTime": {
     "end_time": "2024-06-25T12:13:44.631458Z",
     "start_time": "2024-06-25T12:13:44.617901Z"
    }
   },
   "source": "df_issues_all_copy['system'] = df_issues_all_copy['system_detailed'].apply(lambda x: '; '.join(sorted(set([elem.replace(elem, systems_mapping[elem]) for elem in x.lower().split('; ')]))) if isinstance(x, str) else x)",
   "outputs": [],
   "execution_count": 10
  },
  {
   "metadata": {
    "ExecuteTime": {
     "end_time": "2024-06-25T12:13:44.650392Z",
     "start_time": "2024-06-25T12:13:44.632442Z"
    }
   },
   "cell_type": "code",
   "source": "df_issues_all_copy['release_date'] = pd.to_datetime(df_issues_all_copy['release_date'], format='%d.%m.%Y', errors='coerce').dt.strftime('%Y-%m-%d')",
   "id": "d95df70ae7138f10",
   "outputs": [],
   "execution_count": 11
  },
  {
   "metadata": {
    "ExecuteTime": {
     "end_time": "2024-06-25T12:13:44.675692Z",
     "start_time": "2024-06-25T12:13:44.652539Z"
    }
   },
   "cell_type": "code",
   "source": [
    "df_issues_all_copy = df_issues_all_copy[['title_cleaned', 'title_orig', 'magazine', 'origin', 'language','release_date', 'system', 'system_detailed', 'group', 'source', 'link']]\n",
    "df_issues_all_copy['checked'] = '0'"
   ],
   "id": "1ffa25d42dd32274",
   "outputs": [],
   "execution_count": 12
  },
  {
   "metadata": {
    "ExecuteTime": {
     "end_time": "2024-06-25T12:13:44.700053Z",
     "start_time": "2024-06-25T12:13:44.677141Z"
    }
   },
   "cell_type": "code",
   "source": [
    "# Original file\n",
    "df_issues_all_copy.to_csv(f'{path_target}/east_middle_europe_magazines_issues.csv', index=False, encoding='utf-16')\n",
    "# For publication and wiki\n",
    "df_issues_all_copy.to_csv(f'{path_target}/east_middle_europe_magazines_issues_master.csv', index=False, encoding='utf-16')"
   ],
   "id": "c29ed3b79368108d",
   "outputs": [],
   "execution_count": 13
  },
  {
   "metadata": {
    "ExecuteTime": {
     "end_time": "2024-06-25T12:13:44.715843Z",
     "start_time": "2024-06-25T12:13:44.701477Z"
    }
   },
   "cell_type": "code",
   "source": "",
   "id": "5d6976dc781ab9c4",
   "outputs": [],
   "execution_count": 13
  }
 ],
 "metadata": {
  "kernelspec": {
   "display_name": "Python 3 (ipykernel)",
   "language": "python",
   "name": "python3"
  },
  "language_info": {
   "codemirror_mode": {
    "name": "ipython",
    "version": 3
   },
   "file_extension": ".py",
   "mimetype": "text/x-python",
   "name": "python",
   "nbconvert_exporter": "python",
   "pygments_lexer": "ipython3",
   "version": "3.10.11"
  }
 },
 "nbformat": 4,
 "nbformat_minor": 5
}
